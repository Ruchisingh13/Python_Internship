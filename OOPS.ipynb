{
 "cells": [
  {
   "cell_type": "code",
   "execution_count": 1,
   "metadata": {},
   "outputs": [
    {
     "name": "stdout",
     "output_type": "stream",
     "text": [
      "hello\n"
     ]
    }
   ],
   "source": [
    "print(\"hello\")"
   ]
  },
  {
   "cell_type": "markdown",
   "metadata": {},
   "source": [
    "###   OOPS   Object Oriented programming"
   ]
  },
  {
   "cell_type": "code",
   "execution_count": 3,
   "metadata": {},
   "outputs": [],
   "source": [
    "class Student:\n",
    "    # properties \n",
    "     #class variable \n",
    "     student_names = ['mohit','rohit','jasprit','ronak']\n",
    "     student_class = 3 \n",
    "     student_branch = \"computer science engineering\" \n",
    "     college_name = \"IET Lucknow\""
   ]
  },
  {
   "cell_type": "code",
   "execution_count": 5,
   "metadata": {},
   "outputs": [
    {
     "data": {
      "text/plain": [
       "'computer science engineering'"
      ]
     },
     "execution_count": 5,
     "metadata": {},
     "output_type": "execute_result"
    }
   ],
   "source": [
    "#class_name.variable \n",
    "Student.student_branch"
   ]
  },
  {
   "cell_type": "code",
   "execution_count": 6,
   "metadata": {},
   "outputs": [],
   "source": [
    "obj = Student()    # object and instance initilaization"
   ]
  },
  {
   "cell_type": "code",
   "execution_count": 7,
   "metadata": {},
   "outputs": [
    {
     "data": {
      "text/plain": [
       "['mohit', 'rohit', 'jasprit', 'ronak']"
      ]
     },
     "execution_count": 7,
     "metadata": {},
     "output_type": "execute_result"
    }
   ],
   "source": [
    "obj.student_names"
   ]
  },
  {
   "cell_type": "code",
   "execution_count": 8,
   "metadata": {},
   "outputs": [
    {
     "data": {
      "text/plain": [
       "'computer science engineering'"
      ]
     },
     "execution_count": 8,
     "metadata": {},
     "output_type": "execute_result"
    }
   ],
   "source": [
    "obj.student_branch"
   ]
  },
  {
   "cell_type": "code",
   "execution_count": 9,
   "metadata": {},
   "outputs": [
    {
     "data": {
      "text/plain": [
       "'computer science engineering'"
      ]
     },
     "execution_count": 9,
     "metadata": {},
     "output_type": "execute_result"
    }
   ],
   "source": [
    "obj.student_branch"
   ]
  },
  {
   "cell_type": "code",
   "execution_count": 10,
   "metadata": {},
   "outputs": [],
   "source": [
    "stud_obj = Student()"
   ]
  },
  {
   "cell_type": "code",
   "execution_count": 11,
   "metadata": {},
   "outputs": [
    {
     "data": {
      "text/plain": [
       "20"
      ]
     },
     "execution_count": 11,
     "metadata": {},
     "output_type": "execute_result"
    }
   ],
   "source": [
    "obj.var = 20\n",
    "obj.var"
   ]
  },
  {
   "cell_type": "code",
   "execution_count": 12,
   "metadata": {},
   "outputs": [],
   "source": [
    "## instance vriable\n",
    "\n",
    "# instance variable    # R \n",
    "class Student:\n",
    "    # class variable \n",
    "     college_name = \"IET Lucknow\"\n",
    "\n",
    "     # constructor to create or initialaize  instance variable \n",
    "     def __init__(self):\n",
    "        # instance variable \n",
    "        self.student_names = ['mohit','rohit','jasprit','ronak']\n",
    "        self.student_class = 3 \n",
    "        self.student_branch = \"computer science engineering\"\n",
    "        print(\"Constructor executed\")\n"
   ]
  },
  {
   "cell_type": "code",
   "execution_count": 13,
   "metadata": {},
   "outputs": [
    {
     "data": {
      "text/plain": [
       "'IET Lucknow'"
      ]
     },
     "execution_count": 13,
     "metadata": {},
     "output_type": "execute_result"
    }
   ],
   "source": [
    "stud_obj.college_name"
   ]
  },
  {
   "cell_type": "code",
   "execution_count": 14,
   "metadata": {},
   "outputs": [
    {
     "name": "stdout",
     "output_type": "stream",
     "text": [
      "Constructor executed\n"
     ]
    }
   ],
   "source": [
    "\n",
    "stud_obj = Student()"
   ]
  },
  {
   "cell_type": "code",
   "execution_count": 15,
   "metadata": {},
   "outputs": [
    {
     "data": {
      "text/plain": [
       "'computer science engineering'"
      ]
     },
     "execution_count": 15,
     "metadata": {},
     "output_type": "execute_result"
    }
   ],
   "source": [
    "\n",
    "stud_obj.student_branch"
   ]
  },
  {
   "cell_type": "code",
   "execution_count": 16,
   "metadata": {},
   "outputs": [],
   "source": [
    "stud_obj.student_branch = \"Information technology\""
   ]
  },
  {
   "cell_type": "code",
   "execution_count": 17,
   "metadata": {},
   "outputs": [
    {
     "data": {
      "text/plain": [
       "'Information technology'"
      ]
     },
     "execution_count": 17,
     "metadata": {},
     "output_type": "execute_result"
    }
   ],
   "source": [
    "\n",
    "stud_obj.student_branch"
   ]
  },
  {
   "cell_type": "code",
   "execution_count": 18,
   "metadata": {},
   "outputs": [
    {
     "name": "stdout",
     "output_type": "stream",
     "text": [
      "Constructor executed\n"
     ]
    }
   ],
   "source": [
    "stud_obje2 = Student() "
   ]
  },
  {
   "cell_type": "code",
   "execution_count": 19,
   "metadata": {},
   "outputs": [
    {
     "data": {
      "text/plain": [
       "'computer science engineering'"
      ]
     },
     "execution_count": 19,
     "metadata": {},
     "output_type": "execute_result"
    }
   ],
   "source": [
    "stud_obje2.student_branch"
   ]
  },
  {
   "cell_type": "code",
   "execution_count": 20,
   "metadata": {},
   "outputs": [
    {
     "data": {
      "text/plain": [
       "20"
      ]
     },
     "execution_count": 20,
     "metadata": {},
     "output_type": "execute_result"
    }
   ],
   "source": [
    "obj.var = 20\n",
    "obj.var"
   ]
  },
  {
   "cell_type": "code",
   "execution_count": 21,
   "metadata": {},
   "outputs": [],
   "source": [
    "def __init__():\n",
    "    return a + b\n",
    "\n",
    "# calling  "
   ]
  },
  {
   "cell_type": "markdown",
   "metadata": {},
   "source": [
    "for(int i=0;i<=10;i++){\n",
    "    block of code \n",
    "}"
   ]
  },
  {
   "cell_type": "markdown",
   "metadata": {},
   "source": [
    "for i in range(10):\n",
    "    block of code "
   ]
  },
  {
   "cell_type": "markdown",
   "metadata": {},
   "source": [
    "stud_obj = student()\n",
    "constructor -- > automatiocally call behind tha seen\n",
    "constructor  --> it is a special kind of function or method, \n",
    "you dont need to call the construtor, constructor executor when you will create an objecte"
   ]
  },
  {
   "cell_type": "code",
   "execution_count": 22,
   "metadata": {},
   "outputs": [],
   "source": [
    "# instance variable    # R \n",
    "class Student:\n",
    "    # class variable \n",
    "     college_name = \"IET Lucknow\"\n",
    "\n",
    "     # constructor to create or initialaize  instance variable \n",
    "     def __init__(self,name,clas,branch,marks):\n",
    "        # instance variable \n",
    "        self.student_names = name  # list\n",
    "        self.student_class = clas \n",
    "        self.student_branch = branch\n",
    "        self.student_marks = marks\n",
    "        print(\"Constructor executed\")\n",
    "\n",
    "    #functions or methods \n",
    "     def no_of_student(self):\n",
    "        count = len(self.student_names)\n",
    "        print(\"Your no of student is : \",count) \n",
    "\n",
    "     def my_len(self):\n",
    "         count = 0 \n",
    "         for item in self.student_names: \n",
    "             count = count + 1 \n",
    "         print(\"Your no of student is : \",count) \n",
    "\n",
    "\n",
    "\n",
    "     def pass_or_fail_program(self):  \n",
    "         # marks >= 30 == Pass else Fail\n",
    "         No_of_fail_student = 0\n",
    "         NO_of_Pass_student = 0\n",
    "         for item in  self.student_marks: \n",
    "             if item >=30 :\n",
    "                 print('PASS : ',item)\n",
    "                 NO_of_Pass_student += 1\n",
    "             else:\n",
    "                 print(\"FAIL : \",item)\n",
    "                 No_of_fail_student += 1 \n",
    "\n",
    "\n",
    "         print(\"your fail student is : \", No_of_fail_student)\n",
    "         print(\"Your pass student is : \" , NO_of_Pass_student)\n",
    "    \n",
    "               \n",
    "# self .student_name ---->  it is refrence to the object            \n",
    "        "
   ]
  },
  {
   "cell_type": "code",
   "execution_count": 23,
   "metadata": {},
   "outputs": [
    {
     "name": "stdout",
     "output_type": "stream",
     "text": [
      "Constructor executed\n",
      "Constructor executed\n",
      "Constructor executed\n"
     ]
    }
   ],
   "source": [
    "first_year = Student(name=['rohit','mohit'],clas=1,branch='CSE',marks=[4,74,5,6,74,58,45,6,5,5,2,5,74,58,14,2,53,6,45,46,2])\n",
    "second_year = Student(name=['rakesh','rocky','motu','patlu'],clas=2,branch='CSE',marks=[4,74,5,6,74,58,45,6,5,5,2,5,74,58,14,2,53,6,45,46,2])\n",
    "third_year = Student(name=['pappu','bhola'],clas=3,branch='CSE',marks=[4,74,5,6,74,58,45,6,5,5,2,5,74,58,14,2,53,6,45,46,2])"
   ]
  },
  {
   "cell_type": "code",
   "execution_count": 24,
   "metadata": {},
   "outputs": [
    {
     "name": "stdout",
     "output_type": "stream",
     "text": [
      "Your no of student is :  2\n"
     ]
    }
   ],
   "source": [
    "third_year.no_of_student()"
   ]
  },
  {
   "cell_type": "code",
   "execution_count": 25,
   "metadata": {},
   "outputs": [
    {
     "name": "stdout",
     "output_type": "stream",
     "text": [
      "Your no of student is :  4\n"
     ]
    }
   ],
   "source": [
    "second_year.my_len()"
   ]
  },
  {
   "cell_type": "code",
   "execution_count": 26,
   "metadata": {},
   "outputs": [
    {
     "name": "stdout",
     "output_type": "stream",
     "text": [
      "FAIL :  4\n",
      "PASS :  74\n",
      "FAIL :  5\n",
      "FAIL :  6\n",
      "PASS :  74\n",
      "PASS :  58\n",
      "PASS :  45\n",
      "FAIL :  6\n",
      "FAIL :  5\n",
      "FAIL :  5\n",
      "FAIL :  2\n",
      "FAIL :  5\n",
      "PASS :  74\n",
      "PASS :  58\n",
      "FAIL :  14\n",
      "FAIL :  2\n",
      "PASS :  53\n",
      "FAIL :  6\n",
      "PASS :  45\n",
      "PASS :  46\n",
      "FAIL :  2\n",
      "your fail student is :  12\n",
      "Your pass student is :  9\n"
     ]
    }
   ],
   "source": [
    "\n",
    "first_year.pass_or_fail_program()"
   ]
  },
  {
   "cell_type": "code",
   "execution_count": 27,
   "metadata": {},
   "outputs": [
    {
     "name": "stdout",
     "output_type": "stream",
     "text": [
      "Your no of student is :  2\n"
     ]
    }
   ],
   "source": [
    "third_year.no_of_student()"
   ]
  },
  {
   "cell_type": "code",
   "execution_count": 28,
   "metadata": {},
   "outputs": [
    {
     "name": "stdout",
     "output_type": "stream",
     "text": [
      "1\n",
      "2\n",
      "3\n"
     ]
    }
   ],
   "source": [
    "print(first_year.student_class)\n",
    "print(second_year.student_class)\n",
    "print(third_year.student_class)"
   ]
  },
  {
   "cell_type": "code",
   "execution_count": 29,
   "metadata": {},
   "outputs": [
    {
     "data": {
      "text/plain": [
       "['rohit', 'mohit']"
      ]
     },
     "execution_count": 29,
     "metadata": {},
     "output_type": "execute_result"
    }
   ],
   "source": [
    "first_year.student_names"
   ]
  },
  {
   "cell_type": "code",
   "execution_count": 30,
   "metadata": {},
   "outputs": [
    {
     "data": {
      "text/plain": [
       "4"
      ]
     },
     "execution_count": 30,
     "metadata": {},
     "output_type": "execute_result"
    }
   ],
   "source": [
    "len(second_year.student_names)"
   ]
  },
  {
   "cell_type": "code",
   "execution_count": 31,
   "metadata": {},
   "outputs": [
    {
     "data": {
      "text/plain": [
       "['rakesh', 'rocky', 'motu', 'patlu']"
      ]
     },
     "execution_count": 31,
     "metadata": {},
     "output_type": "execute_result"
    }
   ],
   "source": [
    "\n",
    "second_year.student_names  # obj.var_name   # s"
   ]
  },
  {
   "cell_type": "code",
   "execution_count": null,
   "metadata": {},
   "outputs": [],
   "source": [
    "# animal class in constructor in method and diff obj call krni hai\n",
    "\n",
    "'''sound name method\n",
    "\n",
    "cat name object \n",
    "cat.sound()\n",
    "\n",
    "mobile name constructor in method class ram, rom,price,model\n",
    "def display()\n",
    "\n",
    "realme.display()\n",
    "\n",
    "\n",
    "\n",
    "\n",
    "CLI based chat application  ----->> project\n",
    "\n",
    "1. sender   2.reciver\n",
    "'''"
   ]
  },
  {
   "cell_type": "markdown",
   "metadata": {},
   "source": [
    "# animal class in constructor in method and diff obj call krni hai\n",
    "'''sound name method\n",
    "cat name object \n",
    "cat.sound()\n",
    "'''"
   ]
  },
  {
   "cell_type": "code",
   "execution_count": 8,
   "metadata": {},
   "outputs": [],
   "source": [
    "class Animal:\n",
    "    def __init__(self, name):\n",
    "        self.name = name\n",
    "    \n",
    "    def sound(self):\n",
    "        print(\"sound\",self.name)\n",
    "\n",
    "class Cat(Animal):\n",
    "    def sound(self):\n",
    "        print(\"meow\",self.name)\n",
    "\n",
    "class Dog(Animal):\n",
    "    def sound(self):\n",
    "        print(\"bhouu\",self.name)\n",
    "\n",
    "class Cow(Animal):\n",
    "    def sound(self):\n",
    "        print(\"moo\",self.name)\n",
    "\n",
    "cat = Cat(\"meow\")\n",
    "dog = Dog(\"bhouuu\")\n",
    "cow = Cow(\"maa\")\n",
    "\n"
   ]
  },
  {
   "cell_type": "code",
   "execution_count": 9,
   "metadata": {},
   "outputs": [
    {
     "name": "stdout",
     "output_type": "stream",
     "text": [
      "meow meow\n"
     ]
    }
   ],
   "source": [
    "cat.sound()"
   ]
  },
  {
   "cell_type": "code",
   "execution_count": 10,
   "metadata": {},
   "outputs": [
    {
     "name": "stdout",
     "output_type": "stream",
     "text": [
      "bhouu bhouuu\n"
     ]
    }
   ],
   "source": [
    "dog.sound()"
   ]
  },
  {
   "cell_type": "code",
   "execution_count": 11,
   "metadata": {},
   "outputs": [
    {
     "name": "stdout",
     "output_type": "stream",
     "text": [
      "moo maa\n"
     ]
    }
   ],
   "source": [
    "cow.sound()"
   ]
  },
  {
   "cell_type": "markdown",
   "metadata": {},
   "source": [
    "# mobile name constructor in method class ram, rom,price,model\n",
    "def display()\n",
    "realme.display()"
   ]
  },
  {
   "cell_type": "code",
   "execution_count": 16,
   "metadata": {},
   "outputs": [
    {
     "name": "stdout",
     "output_type": "stream",
     "text": [
      "Model: Realme 8 Pro\n",
      "RAM: 8 GB\n",
      "ROM: 128 GB\n",
      "Price:₹ 299\n"
     ]
    }
   ],
   "source": [
    "class Mobile:\n",
    "    def __init__(self, ram, rom, price, model):\n",
    "        self.ram = ram\n",
    "        self.rom = rom\n",
    "        self.price = price\n",
    "        self.model = model\n",
    "\n",
    "    def display(self):\n",
    "        print(f\"Model: {self.model}\")\n",
    "        print(f\"RAM: {self.ram} GB\")\n",
    "        print(f\"ROM: {self.rom} GB\")\n",
    "        print(f\"Price:\\u20B9 {self.price}\")\n",
    "\n",
    "realme = Mobile(ram=8, rom=128, price=29999, model=\"Realme 8 Pro\")\n",
    "\n",
    "realme.display()\n"
   ]
  }
 ],
 "metadata": {
  "kernelspec": {
   "display_name": "Python 3",
   "language": "python",
   "name": "python3"
  },
  "language_info": {
   "codemirror_mode": {
    "name": "ipython",
    "version": 3
   },
   "file_extension": ".py",
   "mimetype": "text/x-python",
   "name": "python",
   "nbconvert_exporter": "python",
   "pygments_lexer": "ipython3",
   "version": "3.12.2"
  }
 },
 "nbformat": 4,
 "nbformat_minor": 2
}
