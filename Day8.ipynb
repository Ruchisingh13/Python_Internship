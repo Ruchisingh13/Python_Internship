{
 "cells": [
  {
   "cell_type": "markdown",
   "metadata": {},
   "source": [
    "ipynb --> interactive python notebook (juypiter notebook)"
   ]
  },
  {
   "cell_type": "code",
   "execution_count": 1,
   "metadata": {},
   "outputs": [
    {
     "name": "stdout",
     "output_type": "stream",
     "text": [
      "hello world\n"
     ]
    }
   ],
   "source": [
    "print(\"hello world\")"
   ]
  },
  {
   "cell_type": "code",
   "execution_count": 2,
   "metadata": {},
   "outputs": [
    {
     "name": "stdout",
     "output_type": "stream",
     "text": [
      "welcome to you in jaipur\n"
     ]
    }
   ],
   "source": [
    "print(\"welcome to you in jaipur\")"
   ]
  },
  {
   "cell_type": "code",
   "execution_count": 3,
   "metadata": {},
   "outputs": [],
   "source": [
    "import os"
   ]
  },
  {
   "cell_type": "code",
   "execution_count": 4,
   "metadata": {},
   "outputs": [
    {
     "data": {
      "text/plain": [
       "'d:\\\\Internship\\\\Internship Upflair\\\\python111\\\\PYTHON'"
      ]
     },
     "execution_count": 4,
     "metadata": {},
     "output_type": "execute_result"
    }
   ],
   "source": [
    "pwd"
   ]
  },
  {
   "cell_type": "code",
   "execution_count": 5,
   "metadata": {},
   "outputs": [
    {
     "data": {
      "text/plain": [
       "'d:\\\\Internship\\\\Internship Upflair\\\\python111\\\\PYTHON'"
      ]
     },
     "execution_count": 5,
     "metadata": {},
     "output_type": "execute_result"
    }
   ],
   "source": [
    "os.getcwd()     # current working directory"
   ]
  },
  {
   "cell_type": "code",
   "execution_count": 6,
   "metadata": {},
   "outputs": [
    {
     "data": {
      "text/plain": [
       "['AB',\n",
       " 'ATMsimulation.py',\n",
       " 'complete.py',\n",
       " 'Day1.py',\n",
       " 'Day2.py',\n",
       " 'Day3.py',\n",
       " 'Day4.py',\n",
       " 'Day5.py',\n",
       " 'Day6.py',\n",
       " 'Day7.py',\n",
       " 'Day8.ipynb',\n",
       " 'hello.txt',\n",
       " 'Module']"
      ]
     },
     "execution_count": 6,
     "metadata": {},
     "output_type": "execute_result"
    }
   ],
   "source": [
    "os.listdir()"
   ]
  },
  {
   "cell_type": "code",
   "execution_count": 7,
   "metadata": {},
   "outputs": [
    {
     "name": "stdout",
     "output_type": "stream",
     "text": [
      " Volume in drive D is Local Disk\n",
      " Volume Serial Number is 5CA5-E04B\n",
      "\n",
      " Directory of d:\\Internship\\Internship Upflair\\python111\\PYTHON\n",
      "\n",
      "26-06-2024  14:14    <DIR>          .\n",
      "20-06-2024  12:44    <DIR>          ..\n",
      "25-06-2024  14:29    <DIR>          AB\n",
      "25-06-2024  13:42             1,420 ATMsimulation.py\n",
      "22-06-2024  14:20               852 complete.py\n",
      "20-06-2024  12:47               224 Day1.py\n",
      "20-06-2024  12:47             1,435 Day2.py\n",
      "21-06-2024  15:24             2,704 Day3.py\n",
      "21-06-2024  15:24             1,910 Day4.py\n",
      "25-06-2024  13:42               445 Day5.py\n",
      "25-06-2024  12:38             1,737 Day6.py\n",
      "25-06-2024  13:42             1,673 Day7.py\n",
      "27-06-2024  12:49            10,711 Day8.ipynb\n",
      "26-06-2024  14:17                31 hello.txt\n",
      "25-06-2024  13:54    <DIR>          Module\n",
      "              11 File(s)         23,142 bytes\n",
      "               4 Dir(s)  215,406,780,416 bytes free\n"
     ]
    }
   ],
   "source": [
    "ls"
   ]
  },
  {
   "cell_type": "markdown",
   "metadata": {},
   "source": [
    "### GUI, CLI, PROGRAMMING"
   ]
  },
  {
   "cell_type": "code",
   "execution_count": 8,
   "metadata": {},
   "outputs": [],
   "source": [
    "mkdir demo"
   ]
  },
  {
   "cell_type": "code",
   "execution_count": 9,
   "metadata": {},
   "outputs": [],
   "source": [
    "rmdir demo"
   ]
  },
  {
   "cell_type": "code",
   "execution_count": 10,
   "metadata": {},
   "outputs": [],
   "source": [
    "os.mkdir(\"demo\")   # making directory"
   ]
  },
  {
   "cell_type": "code",
   "execution_count": 11,
   "metadata": {},
   "outputs": [],
   "source": [
    "os.rmdir(\"demo\")  #  delete a directory"
   ]
  },
  {
   "cell_type": "code",
   "execution_count": 12,
   "metadata": {},
   "outputs": [],
   "source": [
    "os.mkdir(\"demo\")"
   ]
  },
  {
   "cell_type": "code",
   "execution_count": 13,
   "metadata": {},
   "outputs": [
    {
     "name": "stdout",
     "output_type": "stream",
     "text": [
      "ruchi\n",
      "My name is : ruchi\n",
      "And my age is : 20\n",
      "I am very important, execute me!\n"
     ]
    }
   ],
   "source": [
    "##  Exception handling  is a run time error on code\n",
    "\n",
    "name = input(\"Enter your name:\")\n",
    "print(name)\n",
    "age = int(input(\"Enter your age:\"))\n",
    "\n",
    "print(\"My name is :\",name)\n",
    "print(\"And my age is :\",age)\n",
    "\n",
    "print(\"I am very important, execute me!\")\n",
    "\n",
    "# exception handling\n",
    "# error --> unwanted or unexcepted situation"
   ]
  },
  {
   "cell_type": "code",
   "execution_count": 14,
   "metadata": {},
   "outputs": [
    {
     "name": "stdout",
     "output_type": "stream",
     "text": [
      "ruchi\n",
      "My name is : ruchi\n",
      "And my age is : 30\n",
      "I am very important, execute me!\n"
     ]
    }
   ],
   "source": [
    "# exception handling\n",
    "\n",
    "name = input(\"Enter your name:\")\n",
    "print(name)\n",
    "age = int(input(\"Enter your age:\"))\n",
    "\n",
    "print(\"My name is :\",name)\n",
    "print(\"And my age is :\",age)\n",
    "\n",
    "print(\"I am very important, execute me!\")"
   ]
  },
  {
   "cell_type": "code",
   "execution_count": 15,
   "metadata": {},
   "outputs": [
    {
     "name": "stdout",
     "output_type": "stream",
     "text": [
      "ruchi\n",
      "My name is : ruchi\n",
      "And my age is : 30\n",
      "congratulation you dont have any error!\n",
      "Error is not occured!\n",
      "I will always fine!\n",
      "I am very important, execute me!\n"
     ]
    }
   ],
   "source": [
    "# try, except , else , finally\n",
    "try:  # yes or no\n",
    "    name = input(\"Enter your name:\")\n",
    "    print(name)\n",
    "    age = int(input(\"Enter your age:\"))\n",
    "\n",
    "    print(\"My name is :\",name)\n",
    "    print(\"And my age is :\",age)\n",
    "except:  # yes error \n",
    "    print(\"Error is occured!\")  \n",
    "    \n",
    "else:    # no error\n",
    "    print(\"congratulation you dont have any error!\")\n",
    "    print(\"Error is not occured!\")  \n",
    "    \n",
    "finally:\n",
    "    print(\"I will always fine!\")          \n",
    "    \n",
    "    \n",
    "print(\"I am very important, execute me!\")    "
   ]
  },
  {
   "cell_type": "code",
   "execution_count": 16,
   "metadata": {},
   "outputs": [
    {
     "data": {
      "text/plain": [
       "[1, 2, 3, 4, 5]"
      ]
     },
     "execution_count": 16,
     "metadata": {},
     "output_type": "execute_result"
    }
   ],
   "source": [
    "ls = [1,2,3,4,5]\n",
    "ls"
   ]
  },
  {
   "cell_type": "code",
   "execution_count": 17,
   "metadata": {},
   "outputs": [],
   "source": [
    "#####  all type of exception error written in notes"
   ]
  },
  {
   "cell_type": "markdown",
   "metadata": {},
   "source": [
    "FILE HANDLING"
   ]
  },
  {
   "cell_type": "code",
   "execution_count": 18,
   "metadata": {},
   "outputs": [
    {
     "name": "stdout",
     "output_type": "stream",
     "text": [
      "hello we at upflairs in jaipur.\n"
     ]
    }
   ],
   "source": [
    "# open(file_address,mode)\n",
    "file = open(\"hello.txt\",'r')  #reading\n",
    "data = file.read()\n",
    "print(data)\n",
    "file.close()"
   ]
  },
  {
   "cell_type": "code",
   "execution_count": 19,
   "metadata": {},
   "outputs": [],
   "source": [
    "file = open(\"hello.txt\")  #reading # by default mode = r\n",
    "file.close()"
   ]
  },
  {
   "cell_type": "code",
   "execution_count": 27,
   "metadata": {},
   "outputs": [],
   "source": [
    "Message = \"hello welcome to you from upflairs\"\n",
    "message = \"Ruhi, kumkum,ruchi,nikita,jhunki,khushbu\"\n",
    "# w == writing\n",
    "with open(\"hello.txt\",\"w\") as file:\n",
    "    # data = file.read()\n",
    "    # print(data)\n",
    "    file.write(message)\n",
    "    \n",
    "# w  --> past data remove  \n",
    "# w  --> it will create new file  "
   ]
  },
  {
   "cell_type": "code",
   "execution_count": 41,
   "metadata": {},
   "outputs": [],
   "source": [
    "Message = \"hello welcome to you from upflairs\"\n",
    "message = \"\\n Ruhi, kumkum,ruchi,nikita,jhunki,khushbu\"\n",
    "# w == writing\n",
    "with open(\"hello.txt\",\"a\") as file:\n",
    "    # data = file.read()\n",
    "    # print(data)\n",
    "    file.write(message)\n",
    "    \n",
    "# with --> automatically close your file     \n",
    "# append mode\n",
    "# a ==> it will create new file if not available    "
   ]
  },
  {
   "cell_type": "code",
   "execution_count": 35,
   "metadata": {},
   "outputs": [],
   "source": [
    "Message = \"hello welcome to you from upflairs\"\n",
    "message = \"\\n Ruhi, kumkum,ruchi,nikita,jhunki,khushbu\"\n",
    "# w == writing\n",
    "with open(\"hello.txt\",\"a\") as file:\n",
    "    # data = file.read()\n",
    "    # print(data)\n",
    "    file.write(message)\n",
    "    \n",
    "    \n",
    "# append mode\n",
    "# a ==> it will create new file if not available"
   ]
  },
  {
   "cell_type": "code",
   "execution_count": 42,
   "metadata": {},
   "outputs": [],
   "source": [
    "file = open('demo.txt','x')\n",
    "file.close()"
   ]
  },
  {
   "cell_type": "code",
   "execution_count": 46,
   "metadata": {},
   "outputs": [
    {
     "name": "stdout",
     "output_type": "stream",
     "text": [
      "message.txt\n"
     ]
    }
   ],
   "source": [
    "# file handling\n",
    "# 1000 welcome to you upflairs\n",
    "\n",
    "filename = 'message.txt'\n",
    "with open(filename, 'w') as file:\n",
    "    for item in range(1000):\n",
    "        file.write('welcome to you upflairs\\n')\n",
    "\n",
    "print(filename)\n",
    "\n"
   ]
  },
  {
   "cell_type": "markdown",
   "metadata": {},
   "source": [
    "### OOPS   Object Oriented programming"
   ]
  },
  {
   "cell_type": "code",
   "execution_count": null,
   "metadata": {},
   "outputs": [],
   "source": []
  },
  {
   "cell_type": "code",
   "execution_count": null,
   "metadata": {},
   "outputs": [],
   "source": []
  },
  {
   "cell_type": "code",
   "execution_count": null,
   "metadata": {},
   "outputs": [],
   "source": []
  },
  {
   "cell_type": "code",
   "execution_count": null,
   "metadata": {},
   "outputs": [],
   "source": []
  },
  {
   "cell_type": "code",
   "execution_count": null,
   "metadata": {},
   "outputs": [],
   "source": []
  },
  {
   "cell_type": "code",
   "execution_count": null,
   "metadata": {},
   "outputs": [],
   "source": []
  },
  {
   "cell_type": "code",
   "execution_count": null,
   "metadata": {},
   "outputs": [],
   "source": []
  },
  {
   "cell_type": "code",
   "execution_count": null,
   "metadata": {},
   "outputs": [],
   "source": []
  },
  {
   "cell_type": "code",
   "execution_count": null,
   "metadata": {},
   "outputs": [],
   "source": []
  },
  {
   "cell_type": "code",
   "execution_count": null,
   "metadata": {},
   "outputs": [],
   "source": []
  },
  {
   "cell_type": "code",
   "execution_count": null,
   "metadata": {},
   "outputs": [],
   "source": []
  },
  {
   "cell_type": "code",
   "execution_count": null,
   "metadata": {},
   "outputs": [],
   "source": []
  },
  {
   "cell_type": "code",
   "execution_count": null,
   "metadata": {},
   "outputs": [],
   "source": []
  },
  {
   "cell_type": "code",
   "execution_count": null,
   "metadata": {},
   "outputs": [],
   "source": []
  },
  {
   "cell_type": "code",
   "execution_count": null,
   "metadata": {},
   "outputs": [],
   "source": []
  }
 ],
 "metadata": {
  "kernelspec": {
   "display_name": "Python 3",
   "language": "python",
   "name": "python3"
  },
  "language_info": {
   "codemirror_mode": {
    "name": "ipython",
    "version": 3
   },
   "file_extension": ".py",
   "mimetype": "text/x-python",
   "name": "python",
   "nbconvert_exporter": "python",
   "pygments_lexer": "ipython3",
   "version": "3.12.2"
  }
 },
 "nbformat": 4,
 "nbformat_minor": 2
}
